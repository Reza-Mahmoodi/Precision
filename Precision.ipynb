{
 "cells": [
  {
   "cell_type": "code",
   "execution_count": null,
   "metadata": {},
   "outputs": [],
   "source": [
    "# Calculate Precision for Link Prediction in Python\n",
    "\n",
    "def precision(V, Ate, Apred):\n",
    "    \n",
    "    # V:Main Matrix, Ate: Test Matrix, Apred: Predict Matrix\n",
    "    \n",
    "    n = Ate.shape[0]\n",
    "    Ap = (1-V) * Apred\n",
    "    L1 = torch.sum(Ate).int()\n",
    "    \n",
    "    ap = torch.reshape(Ap, (n**2,1))\n",
    "    ate = torch.reshape(Ate, (n**2,1))\n",
    "    values, indices = ap.topk(k=L1,dim=0) \n",
    "    Ind = indices[values!=0]\n",
    "    app = torch.zeros(n**2,1)\n",
    "    app[Ind] = 1\n",
    "    \n",
    "    l1 = torch.sum(app * ate)\n",
    "    prec = l1/L1\n",
    "    return prec"
   ]
  }
 ],
 "metadata": {
  "kernelspec": {
   "display_name": "Python 3",
   "language": "python",
   "name": "python3"
  },
  "language_info": {
   "codemirror_mode": {
    "name": "ipython",
    "version": 3
   },
   "file_extension": ".py",
   "mimetype": "text/x-python",
   "name": "python",
   "nbconvert_exporter": "python",
   "pygments_lexer": "ipython3",
   "version": "3.8.5"
  }
 },
 "nbformat": 4,
 "nbformat_minor": 4
}
